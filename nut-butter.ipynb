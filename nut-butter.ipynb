{
 "cells": [
  {
   "cell_type": "markdown",
   "id": "56978468",
   "metadata": {},
   "source": [
    "## Numpy In Action"
   ]
  },
  {
   "cell_type": "code",
   "execution_count": 10,
   "id": "6bd17715",
   "metadata": {},
   "outputs": [],
   "source": [
    "import numpy as np\n",
    "import pandas as pd"
   ]
  },
  {
   "cell_type": "code",
   "execution_count": 3,
   "id": "9f23489d",
   "metadata": {},
   "outputs": [
    {
     "data": {
      "text/plain": [
       "100000"
      ]
     },
     "execution_count": 3,
     "metadata": {},
     "output_type": "execute_result"
    }
   ],
   "source": [
    "# Create a massive Numpy array\n",
    "massive_array = np.random.random(100000)\n",
    "massive_array.size"
   ]
  },
  {
   "cell_type": "code",
   "execution_count": 4,
   "id": "a56a66ec",
   "metadata": {},
   "outputs": [
    {
     "data": {
      "text/plain": [
       "array([0.07483897, 0.9288597 , 0.35280725, 0.88371341, 0.18992264,\n",
       "       0.42432798, 0.77808375, 0.53634376, 0.79721774, 0.25235195])"
      ]
     },
     "execution_count": 4,
     "metadata": {},
     "output_type": "execute_result"
    }
   ],
   "source": [
    "massive_array[:10]"
   ]
  },
  {
   "cell_type": "code",
   "execution_count": 5,
   "id": "417827ab",
   "metadata": {},
   "outputs": [
    {
     "name": "stdout",
     "output_type": "stream",
     "text": [
      "16.5 ms ± 316 µs per loop (mean ± std. dev. of 7 runs, 100 loops each)\n",
      "92.6 µs ± 2.6 µs per loop (mean ± std. dev. of 7 runs, 10,000 loops each)\n"
     ]
    }
   ],
   "source": [
    "# compariing numpy sum and python sum\n",
    "\n",
    "%timeit sum(massive_array) # Python's sum\n",
    "%timeit np.sum(massive_array) # NumPy's sum "
   ]
  },
  {
   "cell_type": "code",
   "execution_count": 6,
   "id": "34208737",
   "metadata": {},
   "outputs": [],
   "source": [
    "# 16815 for python\n",
    "# 95.2 for numpy\n"
   ]
  },
  {
   "cell_type": "code",
   "execution_count": 7,
   "id": "eb05fad1",
   "metadata": {},
   "outputs": [
    {
     "data": {
      "text/plain": [
       "176.62815126050418"
      ]
     },
     "execution_count": 7,
     "metadata": {},
     "output_type": "execute_result"
    }
   ],
   "source": [
    "16815/95.2"
   ]
  },
  {
   "cell_type": "code",
   "execution_count": 8,
   "id": "2816d882",
   "metadata": {},
   "outputs": [],
   "source": [
    "# Numpy is 176.62815126050418 faster"
   ]
  },
  {
   "cell_type": "markdown",
   "id": "6bad2f25",
   "metadata": {},
   "source": [
    "## Nut butter sales"
   ]
  },
  {
   "cell_type": "code",
   "execution_count": 11,
   "id": "43607d3e",
   "metadata": {},
   "outputs": [
    {
     "data": {
      "text/plain": [
       "array([[12, 15,  0],\n",
       "       [ 3,  3,  7],\n",
       "       [ 9, 19, 18],\n",
       "       [ 4,  6, 12],\n",
       "       [ 1,  6,  7]])"
      ]
     },
     "execution_count": 11,
     "metadata": {},
     "output_type": "execute_result"
    }
   ],
   "source": [
    "# generating a random data for sales amount\n",
    "np.random.seed(0)\n",
    "sales_amounts = np.random.randint (20, size = (5,3))\n",
    "sales_amounts"
   ]
  },
  {
   "cell_type": "code",
   "execution_count": 12,
   "id": "ffbc0959",
   "metadata": {},
   "outputs": [
    {
     "data": {
      "text/html": [
       "<div>\n",
       "<style scoped>\n",
       "    .dataframe tbody tr th:only-of-type {\n",
       "        vertical-align: middle;\n",
       "    }\n",
       "\n",
       "    .dataframe tbody tr th {\n",
       "        vertical-align: top;\n",
       "    }\n",
       "\n",
       "    .dataframe thead th {\n",
       "        text-align: right;\n",
       "    }\n",
       "</style>\n",
       "<table border=\"1\" class=\"dataframe\">\n",
       "  <thead>\n",
       "    <tr style=\"text-align: right;\">\n",
       "      <th></th>\n",
       "      <th>Almond butter</th>\n",
       "      <th>Peanut butter</th>\n",
       "      <th>Cashew butter</th>\n",
       "    </tr>\n",
       "  </thead>\n",
       "  <tbody>\n",
       "    <tr>\n",
       "      <th>Mon</th>\n",
       "      <td>12</td>\n",
       "      <td>15</td>\n",
       "      <td>0</td>\n",
       "    </tr>\n",
       "    <tr>\n",
       "      <th>Tues</th>\n",
       "      <td>3</td>\n",
       "      <td>3</td>\n",
       "      <td>7</td>\n",
       "    </tr>\n",
       "    <tr>\n",
       "      <th>Wed</th>\n",
       "      <td>9</td>\n",
       "      <td>19</td>\n",
       "      <td>18</td>\n",
       "    </tr>\n",
       "    <tr>\n",
       "      <th>Thurs</th>\n",
       "      <td>4</td>\n",
       "      <td>6</td>\n",
       "      <td>12</td>\n",
       "    </tr>\n",
       "    <tr>\n",
       "      <th>Fri</th>\n",
       "      <td>1</td>\n",
       "      <td>6</td>\n",
       "      <td>7</td>\n",
       "    </tr>\n",
       "  </tbody>\n",
       "</table>\n",
       "</div>"
      ],
      "text/plain": [
       "       Almond butter  Peanut butter  Cashew butter\n",
       "Mon               12             15              0\n",
       "Tues               3              3              7\n",
       "Wed                9             19             18\n",
       "Thurs              4              6             12\n",
       "Fri                1              6              7"
      ]
     },
     "execution_count": 12,
     "metadata": {},
     "output_type": "execute_result"
    }
   ],
   "source": [
    "# labelling rows and columns \n",
    "weekly_sales = pd.DataFrame(sales_amounts, index =[\"Mon\", \"Tues\", \"Wed\", \"Thurs\", \"Fri\"], columns = [\"Almond butter\", \"Peanut butter\", \"Cashew butter\"])\n",
    "weekly_sales"
   ]
  },
  {
   "cell_type": "code",
   "execution_count": 14,
   "id": "a22f2624",
   "metadata": {},
   "outputs": [
    {
     "data": {
      "text/plain": [
       "(3,)"
      ]
     },
     "execution_count": 14,
     "metadata": {},
     "output_type": "execute_result"
    }
   ],
   "source": [
    "# create prices array\n",
    "prices = np.array([10, 8, 12])\n",
    "prices.shape"
   ]
  },
  {
   "cell_type": "code",
   "execution_count": 15,
   "id": "c4e20fb0",
   "metadata": {},
   "outputs": [
    {
     "data": {
      "text/html": [
       "<div>\n",
       "<style scoped>\n",
       "    .dataframe tbody tr th:only-of-type {\n",
       "        vertical-align: middle;\n",
       "    }\n",
       "\n",
       "    .dataframe tbody tr th {\n",
       "        vertical-align: top;\n",
       "    }\n",
       "\n",
       "    .dataframe thead th {\n",
       "        text-align: right;\n",
       "    }\n",
       "</style>\n",
       "<table border=\"1\" class=\"dataframe\">\n",
       "  <thead>\n",
       "    <tr style=\"text-align: right;\">\n",
       "      <th></th>\n",
       "      <th>Almond butter</th>\n",
       "      <th>Peanut butter</th>\n",
       "      <th>Cashew butter</th>\n",
       "    </tr>\n",
       "  </thead>\n",
       "  <tbody>\n",
       "    <tr>\n",
       "      <th>price</th>\n",
       "      <td>10</td>\n",
       "      <td>8</td>\n",
       "      <td>12</td>\n",
       "    </tr>\n",
       "  </tbody>\n",
       "</table>\n",
       "</div>"
      ],
      "text/plain": [
       "       Almond butter  Peanut butter  Cashew butter\n",
       "price             10              8             12"
      ]
     },
     "execution_count": 15,
     "metadata": {},
     "output_type": "execute_result"
    }
   ],
   "source": [
    "# creating butter prices\n",
    "\n",
    "\n",
    "butter_prices = pd.DataFrame (prices.reshape(1,3),  index = [\"price\"], columns = [\"Almond butter\", \"Peanut butter\", \"Cashew butter\"])\n",
    "butter_prices"
   ]
  },
  {
   "cell_type": "code",
   "execution_count": 16,
   "id": "d11f72cb",
   "metadata": {},
   "outputs": [
    {
     "data": {
      "text/plain": [
       "array([240, 138, 458, 232, 142])"
      ]
     },
     "execution_count": 16,
     "metadata": {},
     "output_type": "execute_result"
    }
   ],
   "source": [
    "#dot product (.dot())\n",
    "Total = sales_amounts.dot(prices.T)\n",
    "Total"
   ]
  },
  {
   "cell_type": "code",
   "execution_count": 17,
   "id": "ec08c3fb",
   "metadata": {},
   "outputs": [
    {
     "data": {
      "text/html": [
       "<div>\n",
       "<style scoped>\n",
       "    .dataframe tbody tr th:only-of-type {\n",
       "        vertical-align: middle;\n",
       "    }\n",
       "\n",
       "    .dataframe tbody tr th {\n",
       "        vertical-align: top;\n",
       "    }\n",
       "\n",
       "    .dataframe thead th {\n",
       "        text-align: right;\n",
       "    }\n",
       "</style>\n",
       "<table border=\"1\" class=\"dataframe\">\n",
       "  <thead>\n",
       "    <tr style=\"text-align: right;\">\n",
       "      <th></th>\n",
       "      <th>Mon</th>\n",
       "      <th>Tues</th>\n",
       "      <th>Wed</th>\n",
       "      <th>Thurs</th>\n",
       "      <th>Fri</th>\n",
       "    </tr>\n",
       "  </thead>\n",
       "  <tbody>\n",
       "    <tr>\n",
       "      <th>Almond butter</th>\n",
       "      <td>12</td>\n",
       "      <td>3</td>\n",
       "      <td>9</td>\n",
       "      <td>4</td>\n",
       "      <td>1</td>\n",
       "    </tr>\n",
       "    <tr>\n",
       "      <th>Peanut butter</th>\n",
       "      <td>15</td>\n",
       "      <td>3</td>\n",
       "      <td>19</td>\n",
       "      <td>6</td>\n",
       "      <td>6</td>\n",
       "    </tr>\n",
       "    <tr>\n",
       "      <th>Cashew butter</th>\n",
       "      <td>0</td>\n",
       "      <td>7</td>\n",
       "      <td>18</td>\n",
       "      <td>12</td>\n",
       "      <td>7</td>\n",
       "    </tr>\n",
       "  </tbody>\n",
       "</table>\n",
       "</div>"
      ],
      "text/plain": [
       "               Mon  Tues  Wed  Thurs  Fri\n",
       "Almond butter   12     3    9      4    1\n",
       "Peanut butter   15     3   19      6    6\n",
       "Cashew butter    0     7   18     12    7"
      ]
     },
     "execution_count": 17,
     "metadata": {},
     "output_type": "execute_result"
    }
   ],
   "source": [
    "#creatingdaily_sales\n",
    "weekly_sales.T"
   ]
  },
  {
   "cell_type": "code",
   "execution_count": 18,
   "id": "4f8b087c",
   "metadata": {},
   "outputs": [
    {
     "data": {
      "text/plain": [
       "(1, 3)"
      ]
     },
     "execution_count": 18,
     "metadata": {},
     "output_type": "execute_result"
    }
   ],
   "source": [
    "butter_prices.shape"
   ]
  },
  {
   "cell_type": "code",
   "execution_count": 20,
   "id": "3d55dfd4",
   "metadata": {},
   "outputs": [],
   "source": [
    "daily_sales=  butter_prices.dot(weekly_sales.T)"
   ]
  },
  {
   "cell_type": "code",
   "execution_count": 21,
   "id": "c067022c",
   "metadata": {},
   "outputs": [
    {
     "data": {
      "text/html": [
       "<div>\n",
       "<style scoped>\n",
       "    .dataframe tbody tr th:only-of-type {\n",
       "        vertical-align: middle;\n",
       "    }\n",
       "\n",
       "    .dataframe tbody tr th {\n",
       "        vertical-align: top;\n",
       "    }\n",
       "\n",
       "    .dataframe thead th {\n",
       "        text-align: right;\n",
       "    }\n",
       "</style>\n",
       "<table border=\"1\" class=\"dataframe\">\n",
       "  <thead>\n",
       "    <tr style=\"text-align: right;\">\n",
       "      <th></th>\n",
       "      <th>Almond butter</th>\n",
       "      <th>Peanut butter</th>\n",
       "      <th>Cashew butter</th>\n",
       "      <th>Total ($)</th>\n",
       "    </tr>\n",
       "  </thead>\n",
       "  <tbody>\n",
       "    <tr>\n",
       "      <th>Mon</th>\n",
       "      <td>12</td>\n",
       "      <td>15</td>\n",
       "      <td>0</td>\n",
       "      <td>240</td>\n",
       "    </tr>\n",
       "    <tr>\n",
       "      <th>Tues</th>\n",
       "      <td>3</td>\n",
       "      <td>3</td>\n",
       "      <td>7</td>\n",
       "      <td>138</td>\n",
       "    </tr>\n",
       "    <tr>\n",
       "      <th>Wed</th>\n",
       "      <td>9</td>\n",
       "      <td>19</td>\n",
       "      <td>18</td>\n",
       "      <td>458</td>\n",
       "    </tr>\n",
       "    <tr>\n",
       "      <th>Thurs</th>\n",
       "      <td>4</td>\n",
       "      <td>6</td>\n",
       "      <td>12</td>\n",
       "      <td>232</td>\n",
       "    </tr>\n",
       "    <tr>\n",
       "      <th>Fri</th>\n",
       "      <td>1</td>\n",
       "      <td>6</td>\n",
       "      <td>7</td>\n",
       "      <td>142</td>\n",
       "    </tr>\n",
       "  </tbody>\n",
       "</table>\n",
       "</div>"
      ],
      "text/plain": [
       "       Almond butter  Peanut butter  Cashew butter  Total ($)\n",
       "Mon               12             15              0        240\n",
       "Tues               3              3              7        138\n",
       "Wed                9             19             18        458\n",
       "Thurs              4              6             12        232\n",
       "Fri                1              6              7        142"
      ]
     },
     "execution_count": 21,
     "metadata": {},
     "output_type": "execute_result"
    }
   ],
   "source": [
    "weekly_sales[\"Total ($)\"] = daily_sales.T\n",
    "weekly_sales\n"
   ]
  },
  {
   "cell_type": "code",
   "execution_count": 22,
   "id": "d9cd1b2b",
   "metadata": {},
   "outputs": [],
   "source": [
    "## Turn images to numpy array"
   ]
  },
  {
   "cell_type": "markdown",
   "id": "2459b428",
   "metadata": {},
   "source": [
    "<img src=\"me.png\"/>"
   ]
  },
  {
   "cell_type": "code",
   "execution_count": 27,
   "id": "f83c900d",
   "metadata": {},
   "outputs": [
    {
     "data": {
      "text/plain": [
       "numpy.ndarray"
      ]
     },
     "execution_count": 27,
     "metadata": {},
     "output_type": "execute_result"
    }
   ],
   "source": [
    "from matplotlib.image import imread\n",
    "\n",
    "me = imread(\"me.png\")\n",
    "type(me)"
   ]
  },
  {
   "cell_type": "code",
   "execution_count": 28,
   "id": "2715ea4e",
   "metadata": {},
   "outputs": [
    {
     "data": {
      "text/plain": [
       "((1024, 823, 3), 2528256, 3)"
      ]
     },
     "execution_count": 28,
     "metadata": {},
     "output_type": "execute_result"
    }
   ],
   "source": [
    "me.shape, me.size, me.ndim"
   ]
  },
  {
   "cell_type": "code",
   "execution_count": 29,
   "id": "dcb71330",
   "metadata": {},
   "outputs": [
    {
     "data": {
      "text/plain": [
       "array([[[0.03529412, 0.00392157, 0.        ],\n",
       "        [0.03529412, 0.00392157, 0.        ],\n",
       "        [0.03137255, 0.        , 0.        ],\n",
       "        ...,\n",
       "        [0.02745098, 0.02352941, 0.00784314],\n",
       "        [0.02745098, 0.02352941, 0.00784314],\n",
       "        [0.02745098, 0.02352941, 0.00784314]],\n",
       "\n",
       "       [[0.31764707, 0.22745098, 0.15686275],\n",
       "        [0.31764707, 0.22745098, 0.15686275],\n",
       "        [0.3137255 , 0.22352941, 0.15294118],\n",
       "        ...,\n",
       "        [0.14509805, 0.14117648, 0.1254902 ],\n",
       "        [0.14509805, 0.14117648, 0.1254902 ],\n",
       "        [0.14509805, 0.14117648, 0.1254902 ]],\n",
       "\n",
       "       [[0.56078434, 0.35686275, 0.16078432],\n",
       "        [0.5568628 , 0.3529412 , 0.15686275],\n",
       "        [0.5529412 , 0.34901962, 0.15294118],\n",
       "        ...,\n",
       "        [0.13725491, 0.13333334, 0.11764706],\n",
       "        [0.13725491, 0.13333334, 0.11764706],\n",
       "        [0.13725491, 0.13333334, 0.11764706]],\n",
       "\n",
       "       ...,\n",
       "\n",
       "       [[0.47058824, 0.29803923, 0.05882353],\n",
       "        [0.47058824, 0.29803923, 0.05882353],\n",
       "        [0.47058824, 0.29411766, 0.0627451 ],\n",
       "        ...,\n",
       "        [0.21176471, 0.17254902, 0.13725491],\n",
       "        [0.21568628, 0.1764706 , 0.14117648],\n",
       "        [0.21960784, 0.18431373, 0.14901961]],\n",
       "\n",
       "       [[0.46666667, 0.29411766, 0.05490196],\n",
       "        [0.46666667, 0.29411766, 0.05490196],\n",
       "        [0.47058824, 0.29411766, 0.0627451 ],\n",
       "        ...,\n",
       "        [0.20784314, 0.16862746, 0.13333334],\n",
       "        [0.20784314, 0.16862746, 0.13333334],\n",
       "        [0.20392157, 0.16862746, 0.13333334]],\n",
       "\n",
       "       [[0.4627451 , 0.2901961 , 0.05098039],\n",
       "        [0.4627451 , 0.2901961 , 0.05098039],\n",
       "        [0.46666667, 0.2901961 , 0.05882353],\n",
       "        ...,\n",
       "        [0.19607843, 0.15686275, 0.12156863],\n",
       "        [0.19215687, 0.15294118, 0.11764706],\n",
       "        [0.1882353 , 0.15294118, 0.11764706]]], dtype=float32)"
      ]
     },
     "execution_count": 29,
     "metadata": {},
     "output_type": "execute_result"
    }
   ],
   "source": [
    "me"
   ]
  },
  {
   "cell_type": "code",
   "execution_count": null,
   "id": "64ecdfa0",
   "metadata": {},
   "outputs": [],
   "source": []
  }
 ],
 "metadata": {
  "kernelspec": {
   "display_name": "Python 3 (ipykernel)",
   "language": "python",
   "name": "python3"
  },
  "language_info": {
   "codemirror_mode": {
    "name": "ipython",
    "version": 3
   },
   "file_extension": ".py",
   "mimetype": "text/x-python",
   "name": "python",
   "nbconvert_exporter": "python",
   "pygments_lexer": "ipython3",
   "version": "3.10.4"
  }
 },
 "nbformat": 4,
 "nbformat_minor": 5
}
